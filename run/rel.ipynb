{
 "cells": [
  {
   "cell_type": "code",
   "execution_count": 1,
   "id": "0bab7070-a3c3-47be-89d7-355df9d4b391",
   "metadata": {
    "tags": []
   },
   "outputs": [],
   "source": [
    "import os\n",
    "os.chdir('~/GAME_0527/src/')"
   ]
  },
  {
   "cell_type": "code",
   "execution_count": null,
   "id": "9174077f",
   "metadata": {},
   "outputs": [],
   "source": [
    "%run main.py --path '~/GAME_0527' --epochs 500 --drop_out 0.5 --scale_sppmi 0.1 --lr 1e-6 --hidden_features 768 --DEVICE 'cuda' --path_origin '[SIM_FOLDER]' --align_path '[ALIGN_FOLDER]' --api_key '[API_KEY]'"
   ]
  }
 ],
 "metadata": {
  "kernelspec": {
   "display_name": "Python 3 (ipykernel)",
   "language": "python",
   "name": "python3"
  },
  "language_info": {
   "codemirror_mode": {
    "name": "ipython",
    "version": 3
   },
   "file_extension": ".py",
   "mimetype": "text/x-python",
   "name": "python",
   "nbconvert_exporter": "python",
   "pygments_lexer": "ipython3",
   "version": "3.9.14"
  }
 },
 "nbformat": 4,
 "nbformat_minor": 5
}
