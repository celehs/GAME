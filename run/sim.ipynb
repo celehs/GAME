{
 "cells": [
  {
   "cell_type": "code",
   "execution_count": 1,
   "id": "e96be6a8-fd60-497e-83b3-5c6c30cde2cd",
   "metadata": {
    "tags": []
   },
   "outputs": [],
   "source": [
    "import os\n",
    "os.chdir('~/GAME_0527/src/')"
   ]
  },
  {
   "cell_type": "code",
   "execution_count": null,
   "id": "037ef2fd-60cb-4a6b-a233-925a9628224a",
   "metadata": {
    "scrolled": true,
    "tags": []
   },
   "outputs": [],
   "source": [
    "%run main.py --path '~/GAME_0527/' --rmax 256 --epochs 500 --scale_OTOL 30 --drop_out 0.5 --scale_sppmi 0.1 --lr 1e-6 --hidden_features 768 --DEVICE 'cuda' --align_path '[ALIGN_FOLDER]' "
   ]
  }
 ],
 "metadata": {
  "kernelspec": {
   "display_name": "Python 3 (ipykernel)",
   "language": "python",
   "name": "python3"
  },
  "language_info": {
   "codemirror_mode": {
    "name": "ipython",
    "version": 3
   },
   "file_extension": ".py",
   "mimetype": "text/x-python",
   "name": "python",
   "nbconvert_exporter": "python",
   "pygments_lexer": "ipython3",
   "version": "3.9.14"
  }
 },
 "nbformat": 4,
 "nbformat_minor": 5
}
